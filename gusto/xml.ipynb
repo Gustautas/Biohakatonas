{
 "metadata": {
  "language_info": {
   "codemirror_mode": {
    "name": "ipython",
    "version": 3
   },
   "file_extension": ".py",
   "mimetype": "text/x-python",
   "name": "python",
   "nbconvert_exporter": "python",
   "pygments_lexer": "ipython3",
   "version": "3.8.2-final"
  },
  "orig_nbformat": 2,
  "kernelspec": {
   "name": "python_defaultSpec_1600342818402",
   "display_name": "Python 3.8.2 64-bit"
  }
 },
 "nbformat": 4,
 "nbformat_minor": 2,
 "cells": [
  {
   "cell_type": "code",
   "execution_count": 1,
   "metadata": {},
   "outputs": [],
   "source": [
    "import xml.dom.minidom"
   ]
  },
  {
   "cell_type": "code",
   "execution_count": 2,
   "metadata": {},
   "outputs": [],
   "source": [
    "import xml.etree.ElementTree as gfg"
   ]
  },
  {
   "cell_type": "code",
   "execution_count": 3,
   "metadata": {},
   "outputs": [],
   "source": [
    "def append_object(root,label=\"NAME\",pose=\"Unspecified\",truncated=\"0\",dificult=\"0\",xmin=\"0\",ymin=\"0\",xmax=\"0\",ymax=\"0\"):\n",
    "    m4 = gfg.Element(\"object\") \n",
    "    root.append(m4)\n",
    "    c1 = gfg.SubElement(m4, \"name\") \n",
    "    c1.text = label\n",
    "    c2 = gfg.SubElement(m4, \"pose\") \n",
    "    c2.text = pose\n",
    "    c3 = gfg.SubElement(m4, \"truncated\") \n",
    "    c3.text = truncated\n",
    "    c4 = gfg.SubElement(m4, \"dificult\") \n",
    "    c4.text = dificult\n",
    "    c5 = gfg.Element(\"bndbox\") \n",
    "    m4.append(c5)\n",
    "\n",
    "    d1 = gfg.SubElement(c5, \"xmin\") \n",
    "    d1.text = xmin\n",
    "    d2 = gfg.SubElement(c5, \"ymin\") \n",
    "    d2.text = ymin\n",
    "    d3 = gfg.SubElement(c5, \"xmax\") \n",
    "    d3.text = xmax\n",
    "    d4 = gfg.SubElement(c5, \"ymax\") \n",
    "    d4.text = ymax\n"
   ]
  },
  {
   "cell_type": "code",
   "execution_count": 7,
   "metadata": {
    "tags": []
   },
   "outputs": [
    {
     "output_type": "stream",
     "name": "stdout",
     "text": "<?xml version=\"1.0\" ?>\n<annotation>\n\t<folder>training images</folder>\n\t<filename>filename.jpg</filename>\n\t<path>PATH</path>\n\t<source>\n\t\t<database>Unknown</database>\n\t</source>\n\t<size>\n\t\t<with>160</with>\n\t\t<height>120</height>\n\t\t<depth>3</depth>\n\t</size>\n\t<segmented>0</segmented>\n\t<object>\n\t\t<name>NAME0</name>\n\t\t<pose>Unspecified</pose>\n\t\t<truncated>0</truncated>\n\t\t<dificult>0</dificult>\n\t\t<bndbox>\n\t\t\t<xmin>0</xmin>\n\t\t\t<ymin>0</ymin>\n\t\t\t<xmax>0</xmax>\n\t\t\t<ymax>0</ymax>\n\t\t</bndbox>\n\t</object>\n\t<object>\n\t\t<name>NAME1</name>\n\t\t<pose>Unspecified</pose>\n\t\t<truncated>0</truncated>\n\t\t<dificult>0</dificult>\n\t\t<bndbox>\n\t\t\t<xmin>0</xmin>\n\t\t\t<ymin>0</ymin>\n\t\t\t<xmax>0</xmax>\n\t\t\t<ymax>0</ymax>\n\t\t</bndbox>\n\t</object>\n\t<object>\n\t\t<name>NAME2</name>\n\t\t<pose>Unspecified</pose>\n\t\t<truncated>0</truncated>\n\t\t<dificult>0</dificult>\n\t\t<bndbox>\n\t\t\t<xmin>0</xmin>\n\t\t\t<ymin>0</ymin>\n\t\t\t<xmax>0</xmax>\n\t\t\t<ymax>0</ymax>\n\t\t</bndbox>\n\t</object>\n\t<object>\n\t\t<name>NAME3</name>\n\t\t<pose>Unspecified</pose>\n\t\t<truncated>0</truncated>\n\t\t<dificult>0</dificult>\n\t\t<bndbox>\n\t\t\t<xmin>0</xmin>\n\t\t\t<ymin>0</ymin>\n\t\t\t<xmax>0</xmax>\n\t\t\t<ymax>0</ymax>\n\t\t</bndbox>\n\t</object>\n</annotation>\n\n"
    }
   ],
   "source": [
    "fileName= 'dirty.xml'\n",
    "root = gfg.Element(\"annotation\") \n",
    "    \n",
    "m1 = gfg.Element(\"folder\") \n",
    "m1.text = \"training images\"\n",
    "root.append(m1) \n",
    "m2 = gfg.Element(\"filename\") \n",
    "m2.text = \"filename.jpg\"\n",
    "root.append(m2)\n",
    "\n",
    "m3 = gfg.Element(\"path\") \n",
    "m3.text = \"PATH\"\n",
    "root.append(m3)\n",
    "\n",
    "m3 = gfg.Element(\"source\") \n",
    "root.append(m3)\n",
    "\n",
    "b1 = gfg.SubElement(m3, \"database\") \n",
    "b1.text = \"Unknown\"\n",
    "\n",
    "m4 = gfg.Element(\"size\")\n",
    "root.append(m4)\n",
    "\n",
    "b2 = gfg.SubElement(m4, \"with\") \n",
    "b2.text = \"160\"\n",
    "b3 = gfg.SubElement(m4, \"height\") \n",
    "b3.text = \"120\"\n",
    "b4 = gfg.SubElement(m4, \"depth\") \n",
    "b4.text = \"3\"\n",
    "\n",
    "m5 = gfg.Element(\"segmented\")\n",
    "m5.text = \"0\"\n",
    "root.append(m5)\n",
    "\n",
    "for objct in range(4):\n",
    "    append_object(root,label=\"NAME\"+str(objct))\n",
    "\n",
    "tree = gfg.ElementTree(root) \n",
    "\n",
    "with open (fileName, \"wb\") as files : \n",
    "    tree.write(files) \n",
    "\n",
    "\n",
    "dom = xml.dom.minidom.parse('dirty.xml') # or xml.dom.minidom.parseString(xml_string)\n",
    "pretty_xml_as_string = dom.toprettyxml()\n",
    "print(pretty_xml_as_string)"
   ]
  },
  {
   "cell_type": "code",
   "execution_count": null,
   "metadata": {},
   "outputs": [],
   "source": []
  }
 ]
}